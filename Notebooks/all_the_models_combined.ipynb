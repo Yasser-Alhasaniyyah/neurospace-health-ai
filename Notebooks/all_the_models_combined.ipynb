{
  "nbformat": 4,
  "nbformat_minor": 0,
  "metadata": {
    "colab": {
      "provenance": [],
      "gpuType": "A100",
      "collapsed_sections": [
        "p21xPb3xVcm3",
        "BjW9gZPUV2DX",
        "vvfo11FwV6yC",
        "T8GH5nn1WAGE",
        "4PbKb_7NaPMU",
        "PxddAmOIIdGm",
        "5fidf1kHcmHN",
        "rJp-qvz9lrKB"
      ]
    },
    "kernelspec": {
      "name": "python3",
      "display_name": "Python 3"
    },
    "language_info": {
      "name": "python"
    },
    "accelerator": "GPU"
  },
  "cells": [
    {
      "cell_type": "markdown",
      "source": [
        "## This section is necessary to import files and datasets"
      ],
      "metadata": {
        "id": "p21xPb3xVcm3"
      }
    },
    {
      "cell_type": "code",
      "source": [
        "# === Basic Libraries ===\n",
        "import os\n",
        "import re\n",
        "import random\n",
        "import json\n",
        "import numpy as np\n",
        "import pandas as pd\n",
        "import matplotlib.pyplot as plt\n",
        "\n",
        "# === System Utilities ===\n",
        "from google.colab import drive\n",
        "from IPython.display import display, clear_output\n",
        "import kagglehub\n",
        "\n",
        "# === Deep Learning ===\n",
        "import torch\n",
        "import torch.nn as nn\n",
        "from tensorflow.keras.models import load_model, model_from_json, Sequential\n",
        "\n",
        "# === Machine Learning ===\n",
        "import joblib\n",
        "from xgboost import XGBClassifier\n",
        "\n",
        "# === Image Processing ===\n",
        "import cv2\n",
        "\n",
        "# === NLP ===\n",
        "import nltk\n",
        "from nltk.corpus import stopwords\n",
        "\n",
        "# === OpenAI Integration ===\n",
        "import openai\n"
      ],
      "metadata": {
        "id": "8bKnggKCw_Hj"
      },
      "execution_count": null,
      "outputs": []
    },
    {
      "cell_type": "code",
      "source": [
        "!pip install --upgrade openai\n",
        "clear_output()\n",
        "print(\"✅ openai upgraded successfully.\")"
      ],
      "metadata": {
        "colab": {
          "base_uri": "https://localhost:8080/"
        },
        "id": "p2z2J7Fqlz2t",
        "outputId": "22c67a2a-4d6d-463b-90a2-c17dddde8fa6"
      },
      "execution_count": null,
      "outputs": [
        {
          "output_type": "stream",
          "name": "stdout",
          "text": [
            "✅ openai upgraded successfully.\n"
          ]
        }
      ]
    },
    {
      "cell_type": "code",
      "source": [
        "# Import the files from Google Drive\n",
        "drive.mount('/content/drive')"
      ],
      "metadata": {
        "colab": {
          "base_uri": "https://localhost:8080/"
        },
        "id": "H-zUM9Bstlmc",
        "outputId": "144ae3e2-31a0-400a-f625-3d4e6845c1d3"
      },
      "execution_count": null,
      "outputs": [
        {
          "output_type": "stream",
          "name": "stdout",
          "text": [
            "Mounted at /content/drive\n"
          ]
        }
      ]
    },
    {
      "source": [
        "# Set KaggleHub cache to a directory inside /content/\n",
        "os.environ[\"KAGGLEHUB_CACHE\"] = \"/content/data\""
      ],
      "cell_type": "code",
      "metadata": {
        "id": "hnG0F5r_3Nus"
      },
      "execution_count": null,
      "outputs": []
    },
    {
      "cell_type": "code",
      "source": [
        "# Model 1 Dataset\n",
        "path = kagglehub.dataset_download(\"nasirayub2/human-vital-sign-dataset\")\n",
        "print(\"Path to dataset files:\", path)\n",
        "\n",
        "#Model 2 Dataset\n",
        "path = kagglehub.dataset_download(\"uom190346a/sleep-health-and-lifestyle-dataset\")\n",
        "print(\"Path to dataset files:\", path)\n",
        "\n",
        "#Model 4 Dataset\n",
        "path = kagglehub.dataset_download(\"taqiyyaghazi/emotion-speech-features-for-speech-recognition\")\n",
        "print(\"Path to dataset files:\", path)\n",
        "\n",
        "# Model 5 Dataset\n",
        "path = kagglehub.dataset_download(\"jonathanoheix/face-expression-recognition-dataset\")\n",
        "print(\"Path to dataset files:\", path)"
      ],
      "metadata": {
        "colab": {
          "base_uri": "https://localhost:8080/"
        },
        "id": "_u8ZFJLD23yg",
        "outputId": "919a4567-0020-4b32-c190-35c3ffa2e449"
      },
      "execution_count": null,
      "outputs": [
        {
          "output_type": "stream",
          "name": "stdout",
          "text": [
            "Downloading from https://www.kaggle.com/api/v1/datasets/download/nasirayub2/human-vital-sign-dataset?dataset_version_number=1...\n"
          ]
        },
        {
          "output_type": "stream",
          "name": "stderr",
          "text": [
            "100%|██████████| 14.0M/14.0M [00:00<00:00, 42.8MB/s]"
          ]
        },
        {
          "output_type": "stream",
          "name": "stdout",
          "text": [
            "Extracting files...\n"
          ]
        },
        {
          "output_type": "stream",
          "name": "stderr",
          "text": [
            "\n"
          ]
        },
        {
          "output_type": "stream",
          "name": "stdout",
          "text": [
            "Path to dataset files: /content/data/datasets/nasirayub2/human-vital-sign-dataset/versions/1\n",
            "Downloading from https://www.kaggle.com/api/v1/datasets/download/uom190346a/sleep-health-and-lifestyle-dataset?dataset_version_number=2...\n"
          ]
        },
        {
          "output_type": "stream",
          "name": "stderr",
          "text": [
            "100%|██████████| 2.54k/2.54k [00:00<00:00, 2.63MB/s]"
          ]
        },
        {
          "output_type": "stream",
          "name": "stdout",
          "text": [
            "Extracting files...\n",
            "Path to dataset files: /content/data/datasets/uom190346a/sleep-health-and-lifestyle-dataset/versions/2\n"
          ]
        },
        {
          "output_type": "stream",
          "name": "stderr",
          "text": [
            "\n"
          ]
        },
        {
          "output_type": "stream",
          "name": "stdout",
          "text": [
            "Downloading from https://www.kaggle.com/api/v1/datasets/download/taqiyyaghazi/emotion-speech-features-for-speech-recognition?dataset_version_number=1...\n"
          ]
        },
        {
          "output_type": "stream",
          "name": "stderr",
          "text": [
            "100%|██████████| 20.4k/20.4k [00:00<00:00, 25.9MB/s]"
          ]
        },
        {
          "output_type": "stream",
          "name": "stdout",
          "text": [
            "Extracting files...\n",
            "Path to dataset files: /content/data/datasets/taqiyyaghazi/emotion-speech-features-for-speech-recognition/versions/1\n"
          ]
        },
        {
          "output_type": "stream",
          "name": "stderr",
          "text": [
            "\n"
          ]
        },
        {
          "output_type": "stream",
          "name": "stdout",
          "text": [
            "Downloading from https://www.kaggle.com/api/v1/datasets/download/jonathanoheix/face-expression-recognition-dataset?dataset_version_number=1...\n"
          ]
        },
        {
          "output_type": "stream",
          "name": "stderr",
          "text": [
            "100%|██████████| 121M/121M [00:02<00:00, 50.7MB/s]"
          ]
        },
        {
          "output_type": "stream",
          "name": "stdout",
          "text": [
            "Extracting files...\n"
          ]
        },
        {
          "output_type": "stream",
          "name": "stderr",
          "text": [
            "\n"
          ]
        },
        {
          "output_type": "stream",
          "name": "stdout",
          "text": [
            "Path to dataset files: /content/data/datasets/jonathanoheix/face-expression-recognition-dataset/versions/1\n"
          ]
        }
      ]
    },
    {
      "cell_type": "markdown",
      "source": [
        "## Model 1 (Vital Signs Monitoring)"
      ],
      "metadata": {
        "id": "BjW9gZPUV2DX"
      }
    },
    {
      "cell_type": "code",
      "source": [
        "# === Define the model architecture ===\n",
        "class DNN(nn.Module):\n",
        "    def __init__(self, input_size, hidden_size=128, output_size=1):\n",
        "        super(DNN, self).__init__()\n",
        "        self.fc1 = nn.Linear(input_size, hidden_size)\n",
        "        self.fc2 = nn.Linear(hidden_size, hidden_size)\n",
        "        self.fc3 = nn.Linear(hidden_size, output_size)\n",
        "        self.relu = nn.ReLU()\n",
        "\n",
        "    def forward(self, x):\n",
        "        x = self.relu(self.fc1(x))\n",
        "        x = self.relu(self.fc2(x))\n",
        "        return self.fc3(x)\n",
        "\n",
        "# === Load model, scaler, and encoder ===\n",
        "timestamp = \"20250327_032916\"\n",
        "base_path = \"/content/drive/MyDrive/Hackathon Models/1. Wearable Sensor Data for Vital Signs Monitoring/\"\n",
        "model_path   = f\"{base_path}model_vital_{timestamp}.pth\"\n",
        "scaler_path  = f\"{base_path}scaler_vital_{timestamp}.pkl\"\n",
        "encoder_path = f\"{base_path}encoder_vital_{timestamp}.pkl\"\n",
        "\n",
        "input_size = 9\n",
        "model = DNN(input_size=input_size)\n",
        "model.load_state_dict(torch.load(model_path, map_location=torch.device('cpu')))\n",
        "model.eval()\n",
        "\n",
        "scaler = joblib.load(scaler_path)\n",
        "label_encoder = joblib.load(encoder_path)\n",
        "\n",
        "# === Data Preparation Function ===\n",
        "def prepare_input(df):\n",
        "    df = df.copy()\n",
        "    df = df.drop_duplicates()\n",
        "    columns_to_drop = [\n",
        "        'Timestamp', 'Patient ID', 'Gender',\n",
        "        'Derived_HRV', 'Derived_Pulse_Pressure',\n",
        "        'Derived_BMI', 'Derived_MAP'\n",
        "    ]\n",
        "    df = df.drop(columns=[col for col in columns_to_drop if col in df.columns])\n",
        "    if 'Risk Category' in df.columns:\n",
        "        y = df['Risk Category']\n",
        "        X = df.drop(columns=['Risk Category'])\n",
        "    else:\n",
        "        y = None\n",
        "        X = df\n",
        "    return X, y\n",
        "\n",
        "# === Load and preprocess dataset ===\n",
        "df = pd.read_csv(\"/content/data/datasets/nasirayub2/human-vital-sign-dataset/versions/1/human_vital_signs_dataset_2024.csv\")\n",
        "X, y = prepare_input(df)"
      ],
      "metadata": {
        "id": "TcO5nCxBtZQa"
      },
      "execution_count": null,
      "outputs": []
    },
    {
      "cell_type": "code",
      "execution_count": null,
      "metadata": {
        "id": "aNC_HDaq2jEv",
        "colab": {
          "base_uri": "https://localhost:8080/",
          "height": 141
        },
        "outputId": "0a789672-7ec3-44d5-e97f-3d9c44227404"
      },
      "outputs": [
        {
          "output_type": "stream",
          "name": "stdout",
          "text": [
            "🧪 Vital Sign Inputs:\n"
          ]
        },
        {
          "output_type": "display_data",
          "data": {
            "text/plain": [
              "        Heart Rate  Respiratory Rate  Body Temperature  Oxygen Saturation  \\\n",
              "130217          66                18         36.841039          95.164139   \n",
              "\n",
              "        Systolic Blood Pressure  Diastolic Blood Pressure  Age  Weight (kg)  \\\n",
              "130217                      116                        75   86    94.808637   \n",
              "\n",
              "        Height (m)  \n",
              "130217    1.593459  "
            ],
            "text/html": [
              "\n",
              "  <div id=\"df-9dd19973-2c65-4d15-a182-863cae277791\" class=\"colab-df-container\">\n",
              "    <div>\n",
              "<style scoped>\n",
              "    .dataframe tbody tr th:only-of-type {\n",
              "        vertical-align: middle;\n",
              "    }\n",
              "\n",
              "    .dataframe tbody tr th {\n",
              "        vertical-align: top;\n",
              "    }\n",
              "\n",
              "    .dataframe thead th {\n",
              "        text-align: right;\n",
              "    }\n",
              "</style>\n",
              "<table border=\"1\" class=\"dataframe\">\n",
              "  <thead>\n",
              "    <tr style=\"text-align: right;\">\n",
              "      <th></th>\n",
              "      <th>Heart Rate</th>\n",
              "      <th>Respiratory Rate</th>\n",
              "      <th>Body Temperature</th>\n",
              "      <th>Oxygen Saturation</th>\n",
              "      <th>Systolic Blood Pressure</th>\n",
              "      <th>Diastolic Blood Pressure</th>\n",
              "      <th>Age</th>\n",
              "      <th>Weight (kg)</th>\n",
              "      <th>Height (m)</th>\n",
              "    </tr>\n",
              "  </thead>\n",
              "  <tbody>\n",
              "    <tr>\n",
              "      <th>130217</th>\n",
              "      <td>66</td>\n",
              "      <td>18</td>\n",
              "      <td>36.841039</td>\n",
              "      <td>95.164139</td>\n",
              "      <td>116</td>\n",
              "      <td>75</td>\n",
              "      <td>86</td>\n",
              "      <td>94.808637</td>\n",
              "      <td>1.593459</td>\n",
              "    </tr>\n",
              "  </tbody>\n",
              "</table>\n",
              "</div>\n",
              "    <div class=\"colab-df-buttons\">\n",
              "\n",
              "  <div class=\"colab-df-container\">\n",
              "    <button class=\"colab-df-convert\" onclick=\"convertToInteractive('df-9dd19973-2c65-4d15-a182-863cae277791')\"\n",
              "            title=\"Convert this dataframe to an interactive table.\"\n",
              "            style=\"display:none;\">\n",
              "\n",
              "  <svg xmlns=\"http://www.w3.org/2000/svg\" height=\"24px\" viewBox=\"0 -960 960 960\">\n",
              "    <path d=\"M120-120v-720h720v720H120Zm60-500h600v-160H180v160Zm220 220h160v-160H400v160Zm0 220h160v-160H400v160ZM180-400h160v-160H180v160Zm440 0h160v-160H620v160ZM180-180h160v-160H180v160Zm440 0h160v-160H620v160Z\"/>\n",
              "  </svg>\n",
              "    </button>\n",
              "\n",
              "  <style>\n",
              "    .colab-df-container {\n",
              "      display:flex;\n",
              "      gap: 12px;\n",
              "    }\n",
              "\n",
              "    .colab-df-convert {\n",
              "      background-color: #E8F0FE;\n",
              "      border: none;\n",
              "      border-radius: 50%;\n",
              "      cursor: pointer;\n",
              "      display: none;\n",
              "      fill: #1967D2;\n",
              "      height: 32px;\n",
              "      padding: 0 0 0 0;\n",
              "      width: 32px;\n",
              "    }\n",
              "\n",
              "    .colab-df-convert:hover {\n",
              "      background-color: #E2EBFA;\n",
              "      box-shadow: 0px 1px 2px rgba(60, 64, 67, 0.3), 0px 1px 3px 1px rgba(60, 64, 67, 0.15);\n",
              "      fill: #174EA6;\n",
              "    }\n",
              "\n",
              "    .colab-df-buttons div {\n",
              "      margin-bottom: 4px;\n",
              "    }\n",
              "\n",
              "    [theme=dark] .colab-df-convert {\n",
              "      background-color: #3B4455;\n",
              "      fill: #D2E3FC;\n",
              "    }\n",
              "\n",
              "    [theme=dark] .colab-df-convert:hover {\n",
              "      background-color: #434B5C;\n",
              "      box-shadow: 0px 1px 3px 1px rgba(0, 0, 0, 0.15);\n",
              "      filter: drop-shadow(0px 1px 2px rgba(0, 0, 0, 0.3));\n",
              "      fill: #FFFFFF;\n",
              "    }\n",
              "  </style>\n",
              "\n",
              "    <script>\n",
              "      const buttonEl =\n",
              "        document.querySelector('#df-9dd19973-2c65-4d15-a182-863cae277791 button.colab-df-convert');\n",
              "      buttonEl.style.display =\n",
              "        google.colab.kernel.accessAllowed ? 'block' : 'none';\n",
              "\n",
              "      async function convertToInteractive(key) {\n",
              "        const element = document.querySelector('#df-9dd19973-2c65-4d15-a182-863cae277791');\n",
              "        const dataTable =\n",
              "          await google.colab.kernel.invokeFunction('convertToInteractive',\n",
              "                                                    [key], {});\n",
              "        if (!dataTable) return;\n",
              "\n",
              "        const docLinkHtml = 'Like what you see? Visit the ' +\n",
              "          '<a target=\"_blank\" href=https://colab.research.google.com/notebooks/data_table.ipynb>data table notebook</a>'\n",
              "          + ' to learn more about interactive tables.';\n",
              "        element.innerHTML = '';\n",
              "        dataTable['output_type'] = 'display_data';\n",
              "        await google.colab.output.renderOutput(dataTable, element);\n",
              "        const docLink = document.createElement('div');\n",
              "        docLink.innerHTML = docLinkHtml;\n",
              "        element.appendChild(docLink);\n",
              "      }\n",
              "    </script>\n",
              "  </div>\n",
              "\n",
              "\n",
              "  <div id=\"id_e522f951-18f2-4353-83db-fecd9c0f0416\">\n",
              "    <style>\n",
              "      .colab-df-generate {\n",
              "        background-color: #E8F0FE;\n",
              "        border: none;\n",
              "        border-radius: 50%;\n",
              "        cursor: pointer;\n",
              "        display: none;\n",
              "        fill: #1967D2;\n",
              "        height: 32px;\n",
              "        padding: 0 0 0 0;\n",
              "        width: 32px;\n",
              "      }\n",
              "\n",
              "      .colab-df-generate:hover {\n",
              "        background-color: #E2EBFA;\n",
              "        box-shadow: 0px 1px 2px rgba(60, 64, 67, 0.3), 0px 1px 3px 1px rgba(60, 64, 67, 0.15);\n",
              "        fill: #174EA6;\n",
              "      }\n",
              "\n",
              "      [theme=dark] .colab-df-generate {\n",
              "        background-color: #3B4455;\n",
              "        fill: #D2E3FC;\n",
              "      }\n",
              "\n",
              "      [theme=dark] .colab-df-generate:hover {\n",
              "        background-color: #434B5C;\n",
              "        box-shadow: 0px 1px 3px 1px rgba(0, 0, 0, 0.15);\n",
              "        filter: drop-shadow(0px 1px 2px rgba(0, 0, 0, 0.3));\n",
              "        fill: #FFFFFF;\n",
              "      }\n",
              "    </style>\n",
              "    <button class=\"colab-df-generate\" onclick=\"generateWithVariable('sample')\"\n",
              "            title=\"Generate code using this dataframe.\"\n",
              "            style=\"display:none;\">\n",
              "\n",
              "  <svg xmlns=\"http://www.w3.org/2000/svg\" height=\"24px\"viewBox=\"0 0 24 24\"\n",
              "       width=\"24px\">\n",
              "    <path d=\"M7,19H8.4L18.45,9,17,7.55,7,17.6ZM5,21V16.75L18.45,3.32a2,2,0,0,1,2.83,0l1.4,1.43a1.91,1.91,0,0,1,.58,1.4,1.91,1.91,0,0,1-.58,1.4L9.25,21ZM18.45,9,17,7.55Zm-12,3A5.31,5.31,0,0,0,4.9,8.1,5.31,5.31,0,0,0,1,6.5,5.31,5.31,0,0,0,4.9,4.9,5.31,5.31,0,0,0,6.5,1,5.31,5.31,0,0,0,8.1,4.9,5.31,5.31,0,0,0,12,6.5,5.46,5.46,0,0,0,6.5,12Z\"/>\n",
              "  </svg>\n",
              "    </button>\n",
              "    <script>\n",
              "      (() => {\n",
              "      const buttonEl =\n",
              "        document.querySelector('#id_e522f951-18f2-4353-83db-fecd9c0f0416 button.colab-df-generate');\n",
              "      buttonEl.style.display =\n",
              "        google.colab.kernel.accessAllowed ? 'block' : 'none';\n",
              "\n",
              "      buttonEl.onclick = () => {\n",
              "        google.colab.notebook.generateWithVariable('sample');\n",
              "      }\n",
              "      })();\n",
              "    </script>\n",
              "  </div>\n",
              "\n",
              "    </div>\n",
              "  </div>\n"
            ],
            "application/vnd.google.colaboratory.intrinsic+json": {
              "type": "dataframe",
              "variable_name": "sample",
              "summary": "{\n  \"name\": \"sample\",\n  \"rows\": 1,\n  \"fields\": [\n    {\n      \"column\": \"Heart Rate\",\n      \"properties\": {\n        \"dtype\": \"number\",\n        \"std\": null,\n        \"min\": 66,\n        \"max\": 66,\n        \"num_unique_values\": 1,\n        \"samples\": [\n          66\n        ],\n        \"semantic_type\": \"\",\n        \"description\": \"\"\n      }\n    },\n    {\n      \"column\": \"Respiratory Rate\",\n      \"properties\": {\n        \"dtype\": \"number\",\n        \"std\": null,\n        \"min\": 18,\n        \"max\": 18,\n        \"num_unique_values\": 1,\n        \"samples\": [\n          18\n        ],\n        \"semantic_type\": \"\",\n        \"description\": \"\"\n      }\n    },\n    {\n      \"column\": \"Body Temperature\",\n      \"properties\": {\n        \"dtype\": \"number\",\n        \"std\": null,\n        \"min\": 36.84103872563832,\n        \"max\": 36.84103872563832,\n        \"num_unique_values\": 1,\n        \"samples\": [\n          36.84103872563832\n        ],\n        \"semantic_type\": \"\",\n        \"description\": \"\"\n      }\n    },\n    {\n      \"column\": \"Oxygen Saturation\",\n      \"properties\": {\n        \"dtype\": \"number\",\n        \"std\": null,\n        \"min\": 95.1641391587378,\n        \"max\": 95.1641391587378,\n        \"num_unique_values\": 1,\n        \"samples\": [\n          95.1641391587378\n        ],\n        \"semantic_type\": \"\",\n        \"description\": \"\"\n      }\n    },\n    {\n      \"column\": \"Systolic Blood Pressure\",\n      \"properties\": {\n        \"dtype\": \"number\",\n        \"std\": null,\n        \"min\": 116,\n        \"max\": 116,\n        \"num_unique_values\": 1,\n        \"samples\": [\n          116\n        ],\n        \"semantic_type\": \"\",\n        \"description\": \"\"\n      }\n    },\n    {\n      \"column\": \"Diastolic Blood Pressure\",\n      \"properties\": {\n        \"dtype\": \"number\",\n        \"std\": null,\n        \"min\": 75,\n        \"max\": 75,\n        \"num_unique_values\": 1,\n        \"samples\": [\n          75\n        ],\n        \"semantic_type\": \"\",\n        \"description\": \"\"\n      }\n    },\n    {\n      \"column\": \"Age\",\n      \"properties\": {\n        \"dtype\": \"number\",\n        \"std\": null,\n        \"min\": 86,\n        \"max\": 86,\n        \"num_unique_values\": 1,\n        \"samples\": [\n          86\n        ],\n        \"semantic_type\": \"\",\n        \"description\": \"\"\n      }\n    },\n    {\n      \"column\": \"Weight (kg)\",\n      \"properties\": {\n        \"dtype\": \"number\",\n        \"std\": null,\n        \"min\": 94.80863697316916,\n        \"max\": 94.80863697316916,\n        \"num_unique_values\": 1,\n        \"samples\": [\n          94.80863697316916\n        ],\n        \"semantic_type\": \"\",\n        \"description\": \"\"\n      }\n    },\n    {\n      \"column\": \"Height (m)\",\n      \"properties\": {\n        \"dtype\": \"number\",\n        \"std\": null,\n        \"min\": 1.5934591747166549,\n        \"max\": 1.5934591747166549,\n        \"num_unique_values\": 1,\n        \"samples\": [\n          1.5934591747166549\n        ],\n        \"semantic_type\": \"\",\n        \"description\": \"\"\n      }\n    }\n  ]\n}"
            }
          },
          "metadata": {}
        },
        {
          "output_type": "stream",
          "name": "stdout",
          "text": [
            "\n",
            "✅ Predicted Risk: **High Risk**\n"
          ]
        }
      ],
      "source": [
        "# === Pick one random sample ===\n",
        "random_index = np.random.choice(len(X))\n",
        "sample = X.iloc[random_index:random_index+1]  # DataFrame format for table display\n",
        "\n",
        "# === Scale and predict ===\n",
        "sample_scaled = scaler.transform(sample)\n",
        "sample_tensor = torch.tensor(sample_scaled, dtype=torch.float32)\n",
        "\n",
        "with torch.no_grad():\n",
        "    logit = model(sample_tensor)\n",
        "    prob = torch.sigmoid(logit).item()\n",
        "    pred = int(prob >= 0.5)\n",
        "    decoded_pred = label_encoder.inverse_transform([pred])[0]\n",
        "\n",
        "# === Display the result ===\n",
        "print(\"🧪 Vital Sign Inputs:\")\n",
        "display(sample)\n",
        "\n",
        "print(f\"\\n✅ Predicted Risk: **{decoded_pred}**\")\n",
        "vital_signs = decoded_pred"
      ]
    },
    {
      "cell_type": "markdown",
      "source": [
        "## Model 2 (Sleep Pattern and Fatigue)"
      ],
      "metadata": {
        "id": "vvfo11FwV6yC"
      }
    },
    {
      "cell_type": "code",
      "source": [
        "# === 1. Load saved model and encoder ===\n",
        "model_path = \"/content/drive/MyDrive/Hackathon Models/2. Sleep Pattern and Fatigue Monitoring/xgb_sleep_model.pkl\"\n",
        "encoder_path = \"/content/drive/MyDrive/Hackathon Models/2. Sleep Pattern and Fatigue Monitoring/label_encoder.pkl\"\n",
        "\n",
        "model = joblib.load(model_path)\n",
        "label_encoder = joblib.load(encoder_path)\n",
        "\n",
        "# === 2. Load and preprocess the raw data ===\n",
        "df = pd.read_csv(\"/content/data/datasets/uom190346a/sleep-health-and-lifestyle-dataset/versions/2/Sleep_health_and_lifestyle_dataset.csv\")\n",
        "df = df.drop_duplicates()\n",
        "df = df.drop(columns=['Person ID'], errors='ignore')\n",
        "df[\"Sleep Disorder\"] = df[\"Sleep Disorder\"].fillna(\"None\")\n",
        "\n",
        "# === 3. Encode categorical columns same as training ===\n",
        "categorical_cols = ['Gender', 'Occupation', 'BMI Category', 'Blood Pressure']\n",
        "for col in categorical_cols:\n",
        "    df[col] = df[col].astype('category').cat.codes\n",
        "\n",
        "# === 4. Prepare features and labels ===\n",
        "X = df.drop(columns=[\"Sleep Disorder\"])\n",
        "y = df[\"Sleep Disorder\"]\n",
        "\n"
      ],
      "metadata": {
        "id": "VrpDks2cvzkF"
      },
      "execution_count": null,
      "outputs": []
    },
    {
      "cell_type": "code",
      "source": [
        "# === 5. Pick ONE random sample ===\n",
        "sample_idx = np.random.choice(len(X), size=1, replace=False)[0]\n",
        "sample_X = X.iloc[[sample_idx]]\n",
        "sample_row = df.iloc[[sample_idx]]  # include label + features if needed\n",
        "\n",
        "# === 6. Predict and decode ===\n",
        "pred_encoded = model.predict(sample_X)[0]\n",
        "pred_label = label_encoder.inverse_transform([pred_encoded])[0]\n",
        "\n",
        "# === 7. Display input features + prediction ===\n",
        "print(\"📊 Selected Sample Features:\")\n",
        "display(sample_X)  # if in Colab/Jupyter, otherwise use print(sample_X)\n",
        "\n",
        "print(f\"\\n✅ Predicted Sleep Disorder: {pred_label}\")\n",
        "sleep = pred_label"
      ],
      "metadata": {
        "colab": {
          "base_uri": "https://localhost:8080/",
          "height": 141
        },
        "id": "Rhws4JLKgKP4",
        "outputId": "37e6698c-40ed-46df-c097-aba19cc3e5bb"
      },
      "execution_count": null,
      "outputs": [
        {
          "output_type": "stream",
          "name": "stdout",
          "text": [
            "📊 Selected Sample Features:\n"
          ]
        },
        {
          "output_type": "display_data",
          "data": {
            "text/plain": [
              "     Gender  Age  Occupation  Sleep Duration  Quality of Sleep  \\\n",
              "234       0   44          10             6.6                 7   \n",
              "\n",
              "     Physical Activity Level  Stress Level  BMI Category  Blood Pressure  \\\n",
              "234                       45             4             3              20   \n",
              "\n",
              "     Heart Rate  Daily Steps  \n",
              "234          65         6000  "
            ],
            "text/html": [
              "\n",
              "  <div id=\"df-f112524f-aa45-4a35-bf5c-f911d31b4c7f\" class=\"colab-df-container\">\n",
              "    <div>\n",
              "<style scoped>\n",
              "    .dataframe tbody tr th:only-of-type {\n",
              "        vertical-align: middle;\n",
              "    }\n",
              "\n",
              "    .dataframe tbody tr th {\n",
              "        vertical-align: top;\n",
              "    }\n",
              "\n",
              "    .dataframe thead th {\n",
              "        text-align: right;\n",
              "    }\n",
              "</style>\n",
              "<table border=\"1\" class=\"dataframe\">\n",
              "  <thead>\n",
              "    <tr style=\"text-align: right;\">\n",
              "      <th></th>\n",
              "      <th>Gender</th>\n",
              "      <th>Age</th>\n",
              "      <th>Occupation</th>\n",
              "      <th>Sleep Duration</th>\n",
              "      <th>Quality of Sleep</th>\n",
              "      <th>Physical Activity Level</th>\n",
              "      <th>Stress Level</th>\n",
              "      <th>BMI Category</th>\n",
              "      <th>Blood Pressure</th>\n",
              "      <th>Heart Rate</th>\n",
              "      <th>Daily Steps</th>\n",
              "    </tr>\n",
              "  </thead>\n",
              "  <tbody>\n",
              "    <tr>\n",
              "      <th>234</th>\n",
              "      <td>0</td>\n",
              "      <td>44</td>\n",
              "      <td>10</td>\n",
              "      <td>6.6</td>\n",
              "      <td>7</td>\n",
              "      <td>45</td>\n",
              "      <td>4</td>\n",
              "      <td>3</td>\n",
              "      <td>20</td>\n",
              "      <td>65</td>\n",
              "      <td>6000</td>\n",
              "    </tr>\n",
              "  </tbody>\n",
              "</table>\n",
              "</div>\n",
              "    <div class=\"colab-df-buttons\">\n",
              "\n",
              "  <div class=\"colab-df-container\">\n",
              "    <button class=\"colab-df-convert\" onclick=\"convertToInteractive('df-f112524f-aa45-4a35-bf5c-f911d31b4c7f')\"\n",
              "            title=\"Convert this dataframe to an interactive table.\"\n",
              "            style=\"display:none;\">\n",
              "\n",
              "  <svg xmlns=\"http://www.w3.org/2000/svg\" height=\"24px\" viewBox=\"0 -960 960 960\">\n",
              "    <path d=\"M120-120v-720h720v720H120Zm60-500h600v-160H180v160Zm220 220h160v-160H400v160Zm0 220h160v-160H400v160ZM180-400h160v-160H180v160Zm440 0h160v-160H620v160ZM180-180h160v-160H180v160Zm440 0h160v-160H620v160Z\"/>\n",
              "  </svg>\n",
              "    </button>\n",
              "\n",
              "  <style>\n",
              "    .colab-df-container {\n",
              "      display:flex;\n",
              "      gap: 12px;\n",
              "    }\n",
              "\n",
              "    .colab-df-convert {\n",
              "      background-color: #E8F0FE;\n",
              "      border: none;\n",
              "      border-radius: 50%;\n",
              "      cursor: pointer;\n",
              "      display: none;\n",
              "      fill: #1967D2;\n",
              "      height: 32px;\n",
              "      padding: 0 0 0 0;\n",
              "      width: 32px;\n",
              "    }\n",
              "\n",
              "    .colab-df-convert:hover {\n",
              "      background-color: #E2EBFA;\n",
              "      box-shadow: 0px 1px 2px rgba(60, 64, 67, 0.3), 0px 1px 3px 1px rgba(60, 64, 67, 0.15);\n",
              "      fill: #174EA6;\n",
              "    }\n",
              "\n",
              "    .colab-df-buttons div {\n",
              "      margin-bottom: 4px;\n",
              "    }\n",
              "\n",
              "    [theme=dark] .colab-df-convert {\n",
              "      background-color: #3B4455;\n",
              "      fill: #D2E3FC;\n",
              "    }\n",
              "\n",
              "    [theme=dark] .colab-df-convert:hover {\n",
              "      background-color: #434B5C;\n",
              "      box-shadow: 0px 1px 3px 1px rgba(0, 0, 0, 0.15);\n",
              "      filter: drop-shadow(0px 1px 2px rgba(0, 0, 0, 0.3));\n",
              "      fill: #FFFFFF;\n",
              "    }\n",
              "  </style>\n",
              "\n",
              "    <script>\n",
              "      const buttonEl =\n",
              "        document.querySelector('#df-f112524f-aa45-4a35-bf5c-f911d31b4c7f button.colab-df-convert');\n",
              "      buttonEl.style.display =\n",
              "        google.colab.kernel.accessAllowed ? 'block' : 'none';\n",
              "\n",
              "      async function convertToInteractive(key) {\n",
              "        const element = document.querySelector('#df-f112524f-aa45-4a35-bf5c-f911d31b4c7f');\n",
              "        const dataTable =\n",
              "          await google.colab.kernel.invokeFunction('convertToInteractive',\n",
              "                                                    [key], {});\n",
              "        if (!dataTable) return;\n",
              "\n",
              "        const docLinkHtml = 'Like what you see? Visit the ' +\n",
              "          '<a target=\"_blank\" href=https://colab.research.google.com/notebooks/data_table.ipynb>data table notebook</a>'\n",
              "          + ' to learn more about interactive tables.';\n",
              "        element.innerHTML = '';\n",
              "        dataTable['output_type'] = 'display_data';\n",
              "        await google.colab.output.renderOutput(dataTable, element);\n",
              "        const docLink = document.createElement('div');\n",
              "        docLink.innerHTML = docLinkHtml;\n",
              "        element.appendChild(docLink);\n",
              "      }\n",
              "    </script>\n",
              "  </div>\n",
              "\n",
              "\n",
              "  <div id=\"id_9ba810b1-f1ca-4796-90bc-b602c269189c\">\n",
              "    <style>\n",
              "      .colab-df-generate {\n",
              "        background-color: #E8F0FE;\n",
              "        border: none;\n",
              "        border-radius: 50%;\n",
              "        cursor: pointer;\n",
              "        display: none;\n",
              "        fill: #1967D2;\n",
              "        height: 32px;\n",
              "        padding: 0 0 0 0;\n",
              "        width: 32px;\n",
              "      }\n",
              "\n",
              "      .colab-df-generate:hover {\n",
              "        background-color: #E2EBFA;\n",
              "        box-shadow: 0px 1px 2px rgba(60, 64, 67, 0.3), 0px 1px 3px 1px rgba(60, 64, 67, 0.15);\n",
              "        fill: #174EA6;\n",
              "      }\n",
              "\n",
              "      [theme=dark] .colab-df-generate {\n",
              "        background-color: #3B4455;\n",
              "        fill: #D2E3FC;\n",
              "      }\n",
              "\n",
              "      [theme=dark] .colab-df-generate:hover {\n",
              "        background-color: #434B5C;\n",
              "        box-shadow: 0px 1px 3px 1px rgba(0, 0, 0, 0.15);\n",
              "        filter: drop-shadow(0px 1px 2px rgba(0, 0, 0, 0.3));\n",
              "        fill: #FFFFFF;\n",
              "      }\n",
              "    </style>\n",
              "    <button class=\"colab-df-generate\" onclick=\"generateWithVariable('sample_X')\"\n",
              "            title=\"Generate code using this dataframe.\"\n",
              "            style=\"display:none;\">\n",
              "\n",
              "  <svg xmlns=\"http://www.w3.org/2000/svg\" height=\"24px\"viewBox=\"0 0 24 24\"\n",
              "       width=\"24px\">\n",
              "    <path d=\"M7,19H8.4L18.45,9,17,7.55,7,17.6ZM5,21V16.75L18.45,3.32a2,2,0,0,1,2.83,0l1.4,1.43a1.91,1.91,0,0,1,.58,1.4,1.91,1.91,0,0,1-.58,1.4L9.25,21ZM18.45,9,17,7.55Zm-12,3A5.31,5.31,0,0,0,4.9,8.1,5.31,5.31,0,0,0,1,6.5,5.31,5.31,0,0,0,4.9,4.9,5.31,5.31,0,0,0,6.5,1,5.31,5.31,0,0,0,8.1,4.9,5.31,5.31,0,0,0,12,6.5,5.46,5.46,0,0,0,6.5,12Z\"/>\n",
              "  </svg>\n",
              "    </button>\n",
              "    <script>\n",
              "      (() => {\n",
              "      const buttonEl =\n",
              "        document.querySelector('#id_9ba810b1-f1ca-4796-90bc-b602c269189c button.colab-df-generate');\n",
              "      buttonEl.style.display =\n",
              "        google.colab.kernel.accessAllowed ? 'block' : 'none';\n",
              "\n",
              "      buttonEl.onclick = () => {\n",
              "        google.colab.notebook.generateWithVariable('sample_X');\n",
              "      }\n",
              "      })();\n",
              "    </script>\n",
              "  </div>\n",
              "\n",
              "    </div>\n",
              "  </div>\n"
            ],
            "application/vnd.google.colaboratory.intrinsic+json": {
              "type": "dataframe",
              "variable_name": "sample_X",
              "summary": "{\n  \"name\": \"sample_X\",\n  \"rows\": 1,\n  \"fields\": [\n    {\n      \"column\": \"Gender\",\n      \"properties\": {\n        \"dtype\": \"int8\",\n        \"num_unique_values\": 1,\n        \"samples\": [\n          0\n        ],\n        \"semantic_type\": \"\",\n        \"description\": \"\"\n      }\n    },\n    {\n      \"column\": \"Age\",\n      \"properties\": {\n        \"dtype\": \"number\",\n        \"std\": null,\n        \"min\": 44,\n        \"max\": 44,\n        \"num_unique_values\": 1,\n        \"samples\": [\n          44\n        ],\n        \"semantic_type\": \"\",\n        \"description\": \"\"\n      }\n    },\n    {\n      \"column\": \"Occupation\",\n      \"properties\": {\n        \"dtype\": \"int8\",\n        \"num_unique_values\": 1,\n        \"samples\": [\n          10\n        ],\n        \"semantic_type\": \"\",\n        \"description\": \"\"\n      }\n    },\n    {\n      \"column\": \"Sleep Duration\",\n      \"properties\": {\n        \"dtype\": \"number\",\n        \"std\": null,\n        \"min\": 6.6,\n        \"max\": 6.6,\n        \"num_unique_values\": 1,\n        \"samples\": [\n          6.6\n        ],\n        \"semantic_type\": \"\",\n        \"description\": \"\"\n      }\n    },\n    {\n      \"column\": \"Quality of Sleep\",\n      \"properties\": {\n        \"dtype\": \"number\",\n        \"std\": null,\n        \"min\": 7,\n        \"max\": 7,\n        \"num_unique_values\": 1,\n        \"samples\": [\n          7\n        ],\n        \"semantic_type\": \"\",\n        \"description\": \"\"\n      }\n    },\n    {\n      \"column\": \"Physical Activity Level\",\n      \"properties\": {\n        \"dtype\": \"number\",\n        \"std\": null,\n        \"min\": 45,\n        \"max\": 45,\n        \"num_unique_values\": 1,\n        \"samples\": [\n          45\n        ],\n        \"semantic_type\": \"\",\n        \"description\": \"\"\n      }\n    },\n    {\n      \"column\": \"Stress Level\",\n      \"properties\": {\n        \"dtype\": \"number\",\n        \"std\": null,\n        \"min\": 4,\n        \"max\": 4,\n        \"num_unique_values\": 1,\n        \"samples\": [\n          4\n        ],\n        \"semantic_type\": \"\",\n        \"description\": \"\"\n      }\n    },\n    {\n      \"column\": \"BMI Category\",\n      \"properties\": {\n        \"dtype\": \"int8\",\n        \"num_unique_values\": 1,\n        \"samples\": [\n          3\n        ],\n        \"semantic_type\": \"\",\n        \"description\": \"\"\n      }\n    },\n    {\n      \"column\": \"Blood Pressure\",\n      \"properties\": {\n        \"dtype\": \"int8\",\n        \"num_unique_values\": 1,\n        \"samples\": [\n          20\n        ],\n        \"semantic_type\": \"\",\n        \"description\": \"\"\n      }\n    },\n    {\n      \"column\": \"Heart Rate\",\n      \"properties\": {\n        \"dtype\": \"number\",\n        \"std\": null,\n        \"min\": 65,\n        \"max\": 65,\n        \"num_unique_values\": 1,\n        \"samples\": [\n          65\n        ],\n        \"semantic_type\": \"\",\n        \"description\": \"\"\n      }\n    },\n    {\n      \"column\": \"Daily Steps\",\n      \"properties\": {\n        \"dtype\": \"number\",\n        \"std\": null,\n        \"min\": 6000,\n        \"max\": 6000,\n        \"num_unique_values\": 1,\n        \"samples\": [\n          6000\n        ],\n        \"semantic_type\": \"\",\n        \"description\": \"\"\n      }\n    }\n  ]\n}"
            }
          },
          "metadata": {}
        },
        {
          "output_type": "stream",
          "name": "stdout",
          "text": [
            "\n",
            "✅ Predicted Sleep Disorder: Sleep Apnea\n"
          ]
        }
      ]
    },
    {
      "cell_type": "markdown",
      "source": [
        "## Model 3 (Bone Density and Microgravity)"
      ],
      "metadata": {
        "id": "T8GH5nn1WAGE"
      }
    },
    {
      "cell_type": "code",
      "source": [
        "# Load the dataset\n",
        "df = pd.read_csv(\"/content/drive/MyDrive/Hackathon Models/3. Bone Density and Microgravity Effects/bone density and microgravity.csv\")\n",
        "\n",
        "# Drop missing values (same as training)\n",
        "df.dropna(subset=['htotbmd', 'bmd25', 'rtgroup'], inplace=True)\n",
        "\n",
        "# Recalculate engineered features\n",
        "df['age_weight_ratio'] = df['ra_age'] / df['p3_weigh']\n",
        "df['interaction'] = df['ra_age'] * df['trialyrs']\n",
        "\n",
        "# Load paths\n",
        "base_path = \"/content/drive/MyDrive/Hackathon Models/3. Bone Density and Microgravity Effects/\"\n",
        "\n",
        "# Load models and scalers\n",
        "xgb_model = joblib.load(base_path + \"xgb_model.pkl\")\n",
        "nn_model = load_model(base_path + \"osteoporosis_risk_nn_model_shap.h5\")\n",
        "scaler_xgb = joblib.load(base_path + \"scaler_xgb.pkl\")\n",
        "scaler_nn = joblib.load(base_path + \"scaler_shap.pkl\")\n",
        "\n",
        "# Load feature metadata and thresholds\n",
        "with open(base_path + \"model_metadata.json\") as f:\n",
        "    meta_xgb = json.load(f)\n",
        "with open(base_path + \"model_metadata_shap.json\") as f:\n",
        "    meta_nn = json.load(f)\n",
        "\n",
        "features_xgb = meta_xgb['features']\n",
        "features_nn = meta_nn['features']\n",
        "threshold = (meta_xgb['optimal_threshold'] + meta_nn['optimal_threshold']) / 2"
      ],
      "metadata": {
        "colab": {
          "base_uri": "https://localhost:8080/"
        },
        "id": "xkU1cTP61BBE",
        "outputId": "8d7bf4d7-39d5-4569-ffdf-06346340c812"
      },
      "execution_count": null,
      "outputs": [
        {
          "output_type": "stream",
          "name": "stderr",
          "text": [
            "WARNING:absl:Compiled the loaded model, but the compiled metrics have yet to be built. `model.compile_metrics` will be empty until you train or evaluate the model.\n"
          ]
        }
      ]
    },
    {
      "cell_type": "code",
      "source": [
        "# Select one random sample\n",
        "sample_idx = np.random.choice(len(df))\n",
        "sample = df.iloc[[sample_idx]]  # Keep as DataFrame for display\n",
        "X_xgb = scaler_xgb.transform(sample[features_xgb])\n",
        "X_nn = scaler_nn.transform(sample[features_nn])\n",
        "\n",
        "# Predict\n",
        "proba_xgb = xgb_model.predict_proba(X_xgb)[:, 1][0]\n",
        "proba_nn = nn_model.predict(X_nn).flatten()[0]\n",
        "ensemble_proba = (proba_xgb + proba_nn) / 2\n",
        "ensemble_pred = \"Low Risk\" if ensemble_proba >= threshold else \"High Risk\"\n",
        "\n",
        "# Show sample and prediction\n",
        "print(\"📊 Sample Input Data:\")\n",
        "display(sample[features_xgb])  # or features_nn if preferred\n",
        "\n",
        "print(\"🧠 Predicted Osteoporosis Risk:\", ensemble_pred)\n",
        "bone = ensemble_pred"
      ],
      "metadata": {
        "colab": {
          "base_uri": "https://localhost:8080/",
          "height": 133
        },
        "id": "monx1D7UVYEc",
        "outputId": "0d9766b3-24c0-4d6c-b321-4803923021cd"
      },
      "execution_count": null,
      "outputs": [
        {
          "output_type": "stream",
          "name": "stdout",
          "text": [
            "\u001b[1m1/1\u001b[0m \u001b[32m━━━━━━━━━━━━━━━━━━━━\u001b[0m\u001b[37m\u001b[0m \u001b[1m0s\u001b[0m 199ms/step\n",
            "📊 Sample Input Data:\n"
          ]
        },
        {
          "output_type": "display_data",
          "data": {
            "text/plain": [
              "      age_weight_ratio  interaction  trialyrs  p3_weigh  ra_age\n",
              "6016          1.574468   294.784394  3.983573      47.0      74"
            ],
            "text/html": [
              "\n",
              "  <div id=\"df-5e49557e-bdad-4d3b-b9a2-7eddf386aef4\" class=\"colab-df-container\">\n",
              "    <div>\n",
              "<style scoped>\n",
              "    .dataframe tbody tr th:only-of-type {\n",
              "        vertical-align: middle;\n",
              "    }\n",
              "\n",
              "    .dataframe tbody tr th {\n",
              "        vertical-align: top;\n",
              "    }\n",
              "\n",
              "    .dataframe thead th {\n",
              "        text-align: right;\n",
              "    }\n",
              "</style>\n",
              "<table border=\"1\" class=\"dataframe\">\n",
              "  <thead>\n",
              "    <tr style=\"text-align: right;\">\n",
              "      <th></th>\n",
              "      <th>age_weight_ratio</th>\n",
              "      <th>interaction</th>\n",
              "      <th>trialyrs</th>\n",
              "      <th>p3_weigh</th>\n",
              "      <th>ra_age</th>\n",
              "    </tr>\n",
              "  </thead>\n",
              "  <tbody>\n",
              "    <tr>\n",
              "      <th>6016</th>\n",
              "      <td>1.574468</td>\n",
              "      <td>294.784394</td>\n",
              "      <td>3.983573</td>\n",
              "      <td>47.0</td>\n",
              "      <td>74</td>\n",
              "    </tr>\n",
              "  </tbody>\n",
              "</table>\n",
              "</div>\n",
              "    <div class=\"colab-df-buttons\">\n",
              "\n",
              "  <div class=\"colab-df-container\">\n",
              "    <button class=\"colab-df-convert\" onclick=\"convertToInteractive('df-5e49557e-bdad-4d3b-b9a2-7eddf386aef4')\"\n",
              "            title=\"Convert this dataframe to an interactive table.\"\n",
              "            style=\"display:none;\">\n",
              "\n",
              "  <svg xmlns=\"http://www.w3.org/2000/svg\" height=\"24px\" viewBox=\"0 -960 960 960\">\n",
              "    <path d=\"M120-120v-720h720v720H120Zm60-500h600v-160H180v160Zm220 220h160v-160H400v160Zm0 220h160v-160H400v160ZM180-400h160v-160H180v160Zm440 0h160v-160H620v160ZM180-180h160v-160H180v160Zm440 0h160v-160H620v160Z\"/>\n",
              "  </svg>\n",
              "    </button>\n",
              "\n",
              "  <style>\n",
              "    .colab-df-container {\n",
              "      display:flex;\n",
              "      gap: 12px;\n",
              "    }\n",
              "\n",
              "    .colab-df-convert {\n",
              "      background-color: #E8F0FE;\n",
              "      border: none;\n",
              "      border-radius: 50%;\n",
              "      cursor: pointer;\n",
              "      display: none;\n",
              "      fill: #1967D2;\n",
              "      height: 32px;\n",
              "      padding: 0 0 0 0;\n",
              "      width: 32px;\n",
              "    }\n",
              "\n",
              "    .colab-df-convert:hover {\n",
              "      background-color: #E2EBFA;\n",
              "      box-shadow: 0px 1px 2px rgba(60, 64, 67, 0.3), 0px 1px 3px 1px rgba(60, 64, 67, 0.15);\n",
              "      fill: #174EA6;\n",
              "    }\n",
              "\n",
              "    .colab-df-buttons div {\n",
              "      margin-bottom: 4px;\n",
              "    }\n",
              "\n",
              "    [theme=dark] .colab-df-convert {\n",
              "      background-color: #3B4455;\n",
              "      fill: #D2E3FC;\n",
              "    }\n",
              "\n",
              "    [theme=dark] .colab-df-convert:hover {\n",
              "      background-color: #434B5C;\n",
              "      box-shadow: 0px 1px 3px 1px rgba(0, 0, 0, 0.15);\n",
              "      filter: drop-shadow(0px 1px 2px rgba(0, 0, 0, 0.3));\n",
              "      fill: #FFFFFF;\n",
              "    }\n",
              "  </style>\n",
              "\n",
              "    <script>\n",
              "      const buttonEl =\n",
              "        document.querySelector('#df-5e49557e-bdad-4d3b-b9a2-7eddf386aef4 button.colab-df-convert');\n",
              "      buttonEl.style.display =\n",
              "        google.colab.kernel.accessAllowed ? 'block' : 'none';\n",
              "\n",
              "      async function convertToInteractive(key) {\n",
              "        const element = document.querySelector('#df-5e49557e-bdad-4d3b-b9a2-7eddf386aef4');\n",
              "        const dataTable =\n",
              "          await google.colab.kernel.invokeFunction('convertToInteractive',\n",
              "                                                    [key], {});\n",
              "        if (!dataTable) return;\n",
              "\n",
              "        const docLinkHtml = 'Like what you see? Visit the ' +\n",
              "          '<a target=\"_blank\" href=https://colab.research.google.com/notebooks/data_table.ipynb>data table notebook</a>'\n",
              "          + ' to learn more about interactive tables.';\n",
              "        element.innerHTML = '';\n",
              "        dataTable['output_type'] = 'display_data';\n",
              "        await google.colab.output.renderOutput(dataTable, element);\n",
              "        const docLink = document.createElement('div');\n",
              "        docLink.innerHTML = docLinkHtml;\n",
              "        element.appendChild(docLink);\n",
              "      }\n",
              "    </script>\n",
              "  </div>\n",
              "\n",
              "\n",
              "    </div>\n",
              "  </div>\n"
            ],
            "application/vnd.google.colaboratory.intrinsic+json": {
              "type": "dataframe",
              "summary": "{\n  \"name\": \"bone = ensemble_pred\",\n  \"rows\": 1,\n  \"fields\": [\n    {\n      \"column\": \"age_weight_ratio\",\n      \"properties\": {\n        \"dtype\": \"number\",\n        \"std\": null,\n        \"min\": 1.574468085106383,\n        \"max\": 1.574468085106383,\n        \"num_unique_values\": 1,\n        \"samples\": [\n          1.574468085106383\n        ],\n        \"semantic_type\": \"\",\n        \"description\": \"\"\n      }\n    },\n    {\n      \"column\": \"interaction\",\n      \"properties\": {\n        \"dtype\": \"number\",\n        \"std\": null,\n        \"min\": 294.7843942505135,\n        \"max\": 294.7843942505135,\n        \"num_unique_values\": 1,\n        \"samples\": [\n          294.7843942505135\n        ],\n        \"semantic_type\": \"\",\n        \"description\": \"\"\n      }\n    },\n    {\n      \"column\": \"trialyrs\",\n      \"properties\": {\n        \"dtype\": \"number\",\n        \"std\": null,\n        \"min\": 3.98357289527721,\n        \"max\": 3.98357289527721,\n        \"num_unique_values\": 1,\n        \"samples\": [\n          3.98357289527721\n        ],\n        \"semantic_type\": \"\",\n        \"description\": \"\"\n      }\n    },\n    {\n      \"column\": \"p3_weigh\",\n      \"properties\": {\n        \"dtype\": \"number\",\n        \"std\": null,\n        \"min\": 47.0,\n        \"max\": 47.0,\n        \"num_unique_values\": 1,\n        \"samples\": [\n          47.0\n        ],\n        \"semantic_type\": \"\",\n        \"description\": \"\"\n      }\n    },\n    {\n      \"column\": \"ra_age\",\n      \"properties\": {\n        \"dtype\": \"number\",\n        \"std\": null,\n        \"min\": 74,\n        \"max\": 74,\n        \"num_unique_values\": 1,\n        \"samples\": [\n          74\n        ],\n        \"semantic_type\": \"\",\n        \"description\": \"\"\n      }\n    }\n  ]\n}"
            }
          },
          "metadata": {}
        },
        {
          "output_type": "stream",
          "name": "stdout",
          "text": [
            "🧠 Predicted Osteoporosis Risk: Low Risk\n"
          ]
        }
      ]
    },
    {
      "cell_type": "markdown",
      "source": [
        "## Model 4 (Speech Emotion Recognition)"
      ],
      "metadata": {
        "id": "4PbKb_7NaPMU"
      }
    },
    {
      "cell_type": "code",
      "source": [
        "# === 1. Load model, scaler, and label encoder ===\n",
        "model_path = \"/content/drive/MyDrive/Hackathon Models/4. Speech Emotion Recognition/\"\n",
        "model = load_model(model_path + \"speech_emotion_model.h5\")\n",
        "scaler = joblib.load(model_path + \"scaler.pkl\")\n",
        "label_encoder = joblib.load(model_path + \"label_encoder.pkl\")\n",
        "\n",
        "# === 2. Load test CSV ===\n",
        "csv_path = \"/content/data/datasets/taqiyyaghazi/emotion-speech-features-for-speech-recognition/versions/1/emotion_speech_audio_features.csv\"\n",
        "df = pd.read_csv(csv_path)"
      ],
      "metadata": {
        "colab": {
          "base_uri": "https://localhost:8080/"
        },
        "id": "vbA55PZbamui",
        "outputId": "8fc76712-de64-488f-9c1d-19ee6d6a0fe6"
      },
      "execution_count": null,
      "outputs": [
        {
          "output_type": "stream",
          "name": "stderr",
          "text": [
            "WARNING:absl:Compiled the loaded model, but the compiled metrics have yet to be built. `model.compile_metrics` will be empty until you train or evaluate the model.\n"
          ]
        }
      ]
    },
    {
      "cell_type": "code",
      "source": [
        "# === 3. Select one random sample ===\n",
        "sample_idx = np.random.randint(0, len(df))\n",
        "sample = df.iloc[[sample_idx]]  # as DataFrame for table display\n",
        "X_sample = sample.drop(columns=['label'])\n",
        "X_scaled = scaler.transform(X_sample)\n",
        "\n",
        "# === 4. Predict ===\n",
        "probs = model.predict(X_scaled)\n",
        "pred_idx = np.argmax(probs[0])\n",
        "pred_label = label_encoder.inverse_transform([pred_idx])[0]\n",
        "\n",
        "# === 5. Display ===\n",
        "print(\"🎙️ Input Speech Features:\")\n",
        "display(X_sample)\n",
        "\n",
        "print(\"🧠 Predicted Emotion:\", pred_label)\n",
        "speech_emotion = pred_label"
      ],
      "metadata": {
        "colab": {
          "base_uri": "https://localhost:8080/",
          "height": 141
        },
        "id": "9IOD6weLjUEI",
        "outputId": "8b51f12c-89ea-475a-bcaf-f9e1356844b2"
      },
      "execution_count": null,
      "outputs": [
        {
          "output_type": "stream",
          "name": "stdout",
          "text": [
            "\u001b[1m1/1\u001b[0m \u001b[32m━━━━━━━━━━━━━━━━━━━━\u001b[0m\u001b[37m\u001b[0m \u001b[1m0s\u001b[0m 123ms/step\n",
            "🎙️ Input Speech Features:\n"
          ]
        },
        {
          "output_type": "display_data",
          "data": {
            "text/plain": [
              "     chromagram       zcr      rmse  spectral_centroid       mfcc\n",
              "321    0.352571  0.107672  0.019086        2161.523079 -18.808325"
            ],
            "text/html": [
              "\n",
              "  <div id=\"df-b6d1d689-c87b-4a50-8197-a9c7c5cb0703\" class=\"colab-df-container\">\n",
              "    <div>\n",
              "<style scoped>\n",
              "    .dataframe tbody tr th:only-of-type {\n",
              "        vertical-align: middle;\n",
              "    }\n",
              "\n",
              "    .dataframe tbody tr th {\n",
              "        vertical-align: top;\n",
              "    }\n",
              "\n",
              "    .dataframe thead th {\n",
              "        text-align: right;\n",
              "    }\n",
              "</style>\n",
              "<table border=\"1\" class=\"dataframe\">\n",
              "  <thead>\n",
              "    <tr style=\"text-align: right;\">\n",
              "      <th></th>\n",
              "      <th>chromagram</th>\n",
              "      <th>zcr</th>\n",
              "      <th>rmse</th>\n",
              "      <th>spectral_centroid</th>\n",
              "      <th>mfcc</th>\n",
              "    </tr>\n",
              "  </thead>\n",
              "  <tbody>\n",
              "    <tr>\n",
              "      <th>321</th>\n",
              "      <td>0.352571</td>\n",
              "      <td>0.107672</td>\n",
              "      <td>0.019086</td>\n",
              "      <td>2161.523079</td>\n",
              "      <td>-18.808325</td>\n",
              "    </tr>\n",
              "  </tbody>\n",
              "</table>\n",
              "</div>\n",
              "    <div class=\"colab-df-buttons\">\n",
              "\n",
              "  <div class=\"colab-df-container\">\n",
              "    <button class=\"colab-df-convert\" onclick=\"convertToInteractive('df-b6d1d689-c87b-4a50-8197-a9c7c5cb0703')\"\n",
              "            title=\"Convert this dataframe to an interactive table.\"\n",
              "            style=\"display:none;\">\n",
              "\n",
              "  <svg xmlns=\"http://www.w3.org/2000/svg\" height=\"24px\" viewBox=\"0 -960 960 960\">\n",
              "    <path d=\"M120-120v-720h720v720H120Zm60-500h600v-160H180v160Zm220 220h160v-160H400v160Zm0 220h160v-160H400v160ZM180-400h160v-160H180v160Zm440 0h160v-160H620v160ZM180-180h160v-160H180v160Zm440 0h160v-160H620v160Z\"/>\n",
              "  </svg>\n",
              "    </button>\n",
              "\n",
              "  <style>\n",
              "    .colab-df-container {\n",
              "      display:flex;\n",
              "      gap: 12px;\n",
              "    }\n",
              "\n",
              "    .colab-df-convert {\n",
              "      background-color: #E8F0FE;\n",
              "      border: none;\n",
              "      border-radius: 50%;\n",
              "      cursor: pointer;\n",
              "      display: none;\n",
              "      fill: #1967D2;\n",
              "      height: 32px;\n",
              "      padding: 0 0 0 0;\n",
              "      width: 32px;\n",
              "    }\n",
              "\n",
              "    .colab-df-convert:hover {\n",
              "      background-color: #E2EBFA;\n",
              "      box-shadow: 0px 1px 2px rgba(60, 64, 67, 0.3), 0px 1px 3px 1px rgba(60, 64, 67, 0.15);\n",
              "      fill: #174EA6;\n",
              "    }\n",
              "\n",
              "    .colab-df-buttons div {\n",
              "      margin-bottom: 4px;\n",
              "    }\n",
              "\n",
              "    [theme=dark] .colab-df-convert {\n",
              "      background-color: #3B4455;\n",
              "      fill: #D2E3FC;\n",
              "    }\n",
              "\n",
              "    [theme=dark] .colab-df-convert:hover {\n",
              "      background-color: #434B5C;\n",
              "      box-shadow: 0px 1px 3px 1px rgba(0, 0, 0, 0.15);\n",
              "      filter: drop-shadow(0px 1px 2px rgba(0, 0, 0, 0.3));\n",
              "      fill: #FFFFFF;\n",
              "    }\n",
              "  </style>\n",
              "\n",
              "    <script>\n",
              "      const buttonEl =\n",
              "        document.querySelector('#df-b6d1d689-c87b-4a50-8197-a9c7c5cb0703 button.colab-df-convert');\n",
              "      buttonEl.style.display =\n",
              "        google.colab.kernel.accessAllowed ? 'block' : 'none';\n",
              "\n",
              "      async function convertToInteractive(key) {\n",
              "        const element = document.querySelector('#df-b6d1d689-c87b-4a50-8197-a9c7c5cb0703');\n",
              "        const dataTable =\n",
              "          await google.colab.kernel.invokeFunction('convertToInteractive',\n",
              "                                                    [key], {});\n",
              "        if (!dataTable) return;\n",
              "\n",
              "        const docLinkHtml = 'Like what you see? Visit the ' +\n",
              "          '<a target=\"_blank\" href=https://colab.research.google.com/notebooks/data_table.ipynb>data table notebook</a>'\n",
              "          + ' to learn more about interactive tables.';\n",
              "        element.innerHTML = '';\n",
              "        dataTable['output_type'] = 'display_data';\n",
              "        await google.colab.output.renderOutput(dataTable, element);\n",
              "        const docLink = document.createElement('div');\n",
              "        docLink.innerHTML = docLinkHtml;\n",
              "        element.appendChild(docLink);\n",
              "      }\n",
              "    </script>\n",
              "  </div>\n",
              "\n",
              "\n",
              "  <div id=\"id_6515fb2d-a8dd-4cf6-82bb-60d46c0c9852\">\n",
              "    <style>\n",
              "      .colab-df-generate {\n",
              "        background-color: #E8F0FE;\n",
              "        border: none;\n",
              "        border-radius: 50%;\n",
              "        cursor: pointer;\n",
              "        display: none;\n",
              "        fill: #1967D2;\n",
              "        height: 32px;\n",
              "        padding: 0 0 0 0;\n",
              "        width: 32px;\n",
              "      }\n",
              "\n",
              "      .colab-df-generate:hover {\n",
              "        background-color: #E2EBFA;\n",
              "        box-shadow: 0px 1px 2px rgba(60, 64, 67, 0.3), 0px 1px 3px 1px rgba(60, 64, 67, 0.15);\n",
              "        fill: #174EA6;\n",
              "      }\n",
              "\n",
              "      [theme=dark] .colab-df-generate {\n",
              "        background-color: #3B4455;\n",
              "        fill: #D2E3FC;\n",
              "      }\n",
              "\n",
              "      [theme=dark] .colab-df-generate:hover {\n",
              "        background-color: #434B5C;\n",
              "        box-shadow: 0px 1px 3px 1px rgba(0, 0, 0, 0.15);\n",
              "        filter: drop-shadow(0px 1px 2px rgba(0, 0, 0, 0.3));\n",
              "        fill: #FFFFFF;\n",
              "      }\n",
              "    </style>\n",
              "    <button class=\"colab-df-generate\" onclick=\"generateWithVariable('X_sample')\"\n",
              "            title=\"Generate code using this dataframe.\"\n",
              "            style=\"display:none;\">\n",
              "\n",
              "  <svg xmlns=\"http://www.w3.org/2000/svg\" height=\"24px\"viewBox=\"0 0 24 24\"\n",
              "       width=\"24px\">\n",
              "    <path d=\"M7,19H8.4L18.45,9,17,7.55,7,17.6ZM5,21V16.75L18.45,3.32a2,2,0,0,1,2.83,0l1.4,1.43a1.91,1.91,0,0,1,.58,1.4,1.91,1.91,0,0,1-.58,1.4L9.25,21ZM18.45,9,17,7.55Zm-12,3A5.31,5.31,0,0,0,4.9,8.1,5.31,5.31,0,0,0,1,6.5,5.31,5.31,0,0,0,4.9,4.9,5.31,5.31,0,0,0,6.5,1,5.31,5.31,0,0,0,8.1,4.9,5.31,5.31,0,0,0,12,6.5,5.46,5.46,0,0,0,6.5,12Z\"/>\n",
              "  </svg>\n",
              "    </button>\n",
              "    <script>\n",
              "      (() => {\n",
              "      const buttonEl =\n",
              "        document.querySelector('#id_6515fb2d-a8dd-4cf6-82bb-60d46c0c9852 button.colab-df-generate');\n",
              "      buttonEl.style.display =\n",
              "        google.colab.kernel.accessAllowed ? 'block' : 'none';\n",
              "\n",
              "      buttonEl.onclick = () => {\n",
              "        google.colab.notebook.generateWithVariable('X_sample');\n",
              "      }\n",
              "      })();\n",
              "    </script>\n",
              "  </div>\n",
              "\n",
              "    </div>\n",
              "  </div>\n"
            ],
            "application/vnd.google.colaboratory.intrinsic+json": {
              "type": "dataframe",
              "variable_name": "X_sample",
              "summary": "{\n  \"name\": \"X_sample\",\n  \"rows\": 1,\n  \"fields\": [\n    {\n      \"column\": \"chromagram\",\n      \"properties\": {\n        \"dtype\": \"number\",\n        \"std\": null,\n        \"min\": 0.35257092,\n        \"max\": 0.35257092,\n        \"num_unique_values\": 1,\n        \"samples\": [\n          0.35257092\n        ],\n        \"semantic_type\": \"\",\n        \"description\": \"\"\n      }\n    },\n    {\n      \"column\": \"zcr\",\n      \"properties\": {\n        \"dtype\": \"number\",\n        \"std\": null,\n        \"min\": 0.1076716933139534,\n        \"max\": 0.1076716933139534,\n        \"num_unique_values\": 1,\n        \"samples\": [\n          0.1076716933139534\n        ],\n        \"semantic_type\": \"\",\n        \"description\": \"\"\n      }\n    },\n    {\n      \"column\": \"rmse\",\n      \"properties\": {\n        \"dtype\": \"number\",\n        \"std\": null,\n        \"min\": 0.019085996,\n        \"max\": 0.019085996,\n        \"num_unique_values\": 1,\n        \"samples\": [\n          0.019085996\n        ],\n        \"semantic_type\": \"\",\n        \"description\": \"\"\n      }\n    },\n    {\n      \"column\": \"spectral_centroid\",\n      \"properties\": {\n        \"dtype\": \"number\",\n        \"std\": null,\n        \"min\": 2161.523078511619,\n        \"max\": 2161.523078511619,\n        \"num_unique_values\": 1,\n        \"samples\": [\n          2161.523078511619\n        ],\n        \"semantic_type\": \"\",\n        \"description\": \"\"\n      }\n    },\n    {\n      \"column\": \"mfcc\",\n      \"properties\": {\n        \"dtype\": \"number\",\n        \"std\": null,\n        \"min\": -18.808325,\n        \"max\": -18.808325,\n        \"num_unique_values\": 1,\n        \"samples\": [\n          -18.808325\n        ],\n        \"semantic_type\": \"\",\n        \"description\": \"\"\n      }\n    }\n  ]\n}"
            }
          },
          "metadata": {}
        },
        {
          "output_type": "stream",
          "name": "stdout",
          "text": [
            "🧠 Predicted Emotion: happy\n"
          ]
        }
      ]
    },
    {
      "cell_type": "markdown",
      "source": [
        "## Model 5 (Facial Expression Recognition)"
      ],
      "metadata": {
        "id": "PxddAmOIIdGm"
      }
    },
    {
      "cell_type": "code",
      "source": [
        "# === Load Model ===\n",
        "with open(\"/content/drive/MyDrive/Hackathon Models/5. Facial Expression Recognition/facialemotionmodel.json\", \"r\") as f:\n",
        "    model_json = f.read()\n",
        "\n",
        "# Fix: use custom_objects for Sequential\n",
        "model = model_from_json(model_json, custom_objects={\"Sequential\": Sequential})\n",
        "model.load_weights(\"/content/drive/MyDrive/Hackathon Models/5. Facial Expression Recognition/facialemotionmodel.h5\")\n",
        "print(\"✅ Model loaded successfully!\")\n",
        "\n",
        "# === Emotion Labels ===\n",
        "emotion_labels = ['angry', 'disgust', 'fear', 'happy', 'neutral', 'sad', 'surprise']\n",
        "\n",
        "# === Dataset Path ===\n",
        "dataset_dir = \"/content/data/datasets/jonathanoheix/face-expression-recognition-dataset/versions/1/images/validation\""
      ],
      "metadata": {
        "colab": {
          "base_uri": "https://localhost:8080/"
        },
        "id": "NhtZp-QAIeaU",
        "outputId": "bbdf6753-7a88-4ade-845d-ed01e1a05027"
      },
      "execution_count": null,
      "outputs": [
        {
          "output_type": "stream",
          "name": "stderr",
          "text": [
            "/usr/local/lib/python3.11/dist-packages/keras/src/layers/convolutional/base_conv.py:107: UserWarning: Do not pass an `input_shape`/`input_dim` argument to a layer. When using Sequential models, prefer using an `Input(shape)` object as the first layer in the model instead.\n",
            "  super().__init__(activity_regularizer=activity_regularizer, **kwargs)\n"
          ]
        },
        {
          "output_type": "stream",
          "name": "stdout",
          "text": [
            "✅ Model loaded successfully!\n"
          ]
        }
      ]
    },
    {
      "cell_type": "code",
      "source": [
        "# === Pick Random Image ===\n",
        "all_classes = sorted(os.listdir(dataset_dir))  # Ensure order\n",
        "chosen_class = random.choice(all_classes)\n",
        "img_name = random.choice(os.listdir(os.path.join(dataset_dir, chosen_class)))\n",
        "full_path = os.path.join(dataset_dir, chosen_class, img_name)\n",
        "\n",
        "# === Preprocess ===\n",
        "img = cv2.imread(full_path)\n",
        "gray = cv2.cvtColor(img, cv2.COLOR_BGR2GRAY)\n",
        "resized = cv2.resize(gray, (48, 48)) / 255.0\n",
        "reshaped = np.reshape(resized, (1, 48, 48, 1))\n",
        "\n",
        "# === Predict ===\n",
        "probs = model.predict(reshaped)[0]\n",
        "predicted_label = emotion_labels[np.argmax(probs)]\n",
        "\n",
        "# === Show Image and Prediction ===\n",
        "plt.imshow(cv2.cvtColor(img, cv2.COLOR_BGR2RGB))\n",
        "plt.axis(\"off\")\n",
        "plt.title(f\"Predicted: {predicted_label}\")\n",
        "plt.show()\n",
        "\n",
        "# === Optional: Print Probabilities ===\n",
        "print(\"📊 Prediction Probabilities:\")\n",
        "for label, prob in zip(emotion_labels, probs):\n",
        "    print(f\"  {label.capitalize():<9}: {prob:.4f}\")\n",
        "\n",
        "facial_expression = predicted_label"
      ],
      "metadata": {
        "colab": {
          "base_uri": "https://localhost:8080/",
          "height": 584
        },
        "id": "UdcJkJd6Kb7h",
        "outputId": "bcd8dd50-b27f-4dfa-d9cb-768c5bfa863a"
      },
      "execution_count": null,
      "outputs": [
        {
          "output_type": "stream",
          "name": "stdout",
          "text": [
            "\u001b[1m1/1\u001b[0m \u001b[32m━━━━━━━━━━━━━━━━━━━━\u001b[0m\u001b[37m\u001b[0m \u001b[1m0s\u001b[0m 397ms/step\n"
          ]
        },
        {
          "output_type": "display_data",
          "data": {
            "text/plain": [
              "<Figure size 640x480 with 1 Axes>"
            ],
            "image/png": "[encoded data removed]"
          },
          "metadata": {}
        },
        {
          "output_type": "stream",
          "name": "stdout",
          "text": [
            "📊 Prediction Probabilities:\n",
            "  Angry    : 0.0000\n",
            "  Disgust  : 0.0000\n",
            "  Fear     : 0.0013\n",
            "  Happy    : 0.2615\n",
            "  Neutral  : 0.0000\n",
            "  Sad      : 0.0000\n",
            "  Surprise : 0.7371\n"
          ]
        }
      ]
    },
    {
      "cell_type": "markdown",
      "source": [
        "## Model 6 (Text-Based Psychological Analysis)"
      ],
      "metadata": {
        "id": "5fidf1kHcmHN"
      }
    },
    {
      "cell_type": "code",
      "source": [
        "# Just download stopwords, no punkt to avoid weird issues\n",
        "nltk.download('stopwords')\n",
        "\n",
        "# Load model + vectorizer\n",
        "model = joblib.load(\"/content/drive/MyDrive/Hackathon Models/6. Text-Based Psychological Analysis/text_model.pkl\")\n",
        "vectorizer = joblib.load(\"/content/drive/MyDrive/Hackathon Models/6. Text-Based Psychological Analysis/tfidf_vectorizer.pkl\")\n",
        "\n",
        "# Define stopwords\n",
        "stop_words = set(stopwords.words(\"english\"))\n",
        "\n",
        "# Custom tokenizer (no punkt!)\n",
        "def simple_tokenize(text):\n",
        "    return re.findall(r\"\\b\\w+\\b\", text)\n",
        "\n",
        "# Preprocessing\n",
        "def preprocess_text(text):\n",
        "    text = text.lower()\n",
        "    text = re.sub(r\"http\\S+|www\\S+|https\\S+\", \"\", text)\n",
        "    text = re.sub(r\"@\\w+|\\#\", \"\", text)\n",
        "    text = re.sub(r\"[^\\w\\s]\", \"\", text)\n",
        "    text = re.sub(r\"\\d+\", \"\", text)\n",
        "    text = re.sub(r\"\\n\", \" \", text)\n",
        "    tokens = simple_tokenize(text)\n",
        "    tokens = [t for t in tokens if t not in stop_words]\n",
        "    return \" \".join(tokens)\n",
        "\n",
        "# Prediction\n",
        "def predict_psychological_state(text):\n",
        "    cleaned = preprocess_text(text)\n",
        "    vectorized = vectorizer.transform([cleaned])\n",
        "    prediction = model.predict(vectorized)[0]\n",
        "    return prediction"
      ],
      "metadata": {
        "colab": {
          "base_uri": "https://localhost:8080/"
        },
        "id": "xXzH2MXvco-1",
        "outputId": "83d36147-7024-44b0-cf80-139c6ba77514"
      },
      "execution_count": null,
      "outputs": [
        {
          "output_type": "stream",
          "name": "stderr",
          "text": [
            "[nltk_data] Downloading package stopwords to /root/nltk_data...\n",
            "[nltk_data]   Package stopwords is already up-to-date!\n"
          ]
        }
      ]
    },
    {
      "cell_type": "code",
      "source": [
        "# Test\n",
        "sample = \"i can't feel the happiness anymore\"\n",
        "predicted_state = predict_psychological_state(sample)\n",
        "print(\"The Entired Text is :\")\n",
        "print(sample)\n",
        "print()\n",
        "print(\"🧠 Predicted Mental Health Status:\", predicted_state)\n",
        "\n",
        "\n",
        "text_based = predicted_state"
      ],
      "metadata": {
        "colab": {
          "base_uri": "https://localhost:8080/"
        },
        "id": "2OCw60S7e4Qo",
        "outputId": "d6cae4a2-8e65-4fcc-bcbb-73cd0a1c7420"
      },
      "execution_count": null,
      "outputs": [
        {
          "output_type": "stream",
          "name": "stdout",
          "text": [
            "The Entired Text is :\n",
            "i can't feel the happiness anymore\n",
            "\n",
            "🧠 Predicted Mental Health Status: Depression\n"
          ]
        }
      ]
    },
    {
      "cell_type": "markdown",
      "source": [
        "## Model 7. OpenAI Model"
      ],
      "metadata": {
        "id": "rJp-qvz9lrKB"
      }
    },
    {
      "cell_type": "code",
      "source": [
        "#put you OpenAI API key\n",
        "openai.api_key = \"\"\n",
        "\n",
        "#fine-tuned model name\n",
        "FINE_TUNED_MODEL = \"ft:gpt-3.5-turbo-0125:personal::BGbObCVl\"\n",
        "\n",
        "def run_model_7_summary(vital_signs, sleep, bone, speech_emotion, facial_expression, text_based):\n",
        "    prompt = (\n",
        "        f\"Model 1 (Vital Signs Monitoring): {vital_signs}\\n\"\n",
        "        f\"Model 2 (Sleep Pattern and Fatigue): {sleep}\\n\"\n",
        "        f\"Model 3 (Bone Density and Microgravity): {bone}\\n\"\n",
        "        f\"Model 4 (Speech Emotion Recognition): {speech_emotion}\\n\"\n",
        "        f\"Model 5 (Facial Expression Recognition): {facial_expression}\\n\"\n",
        "        f\"Model 6 (Text-Based Psychological Analysis): {text_based}\\n\"\n",
        "        \"Based on these results, write a short health scan summary and provide recommendations.\"\n",
        "    )\n",
        "\n",
        "    response = openai.chat.completions.create(\n",
        "        model=FINE_TUNED_MODEL,\n",
        "        messages=[\n",
        "            {\"role\": \"user\", \"content\": prompt}\n",
        "        ],\n",
        "        temperature=0.4\n",
        "    )\n",
        "\n",
        "    return response.choices[0].message.content\n",
        "\n",
        "print(\"The Inputs from The 6 Models Are:\")\n",
        "print()\n",
        "print(f\"Model 1 (Vital Signs Monitoring): {vital_signs}\\n\"\n",
        "        f\"Model 2 (Sleep Pattern and Fatigue): {sleep}\\n\"\n",
        "        f\"Model 3 (Bone Density and Microgravity): {bone}\\n\"\n",
        "        f\"Model 4 (Speech Emotion Recognition): {speech_emotion}\\n\"\n",
        "        f\"Model 5 (Facial Expression Recognition): {facial_expression}\\n\"\n",
        "        f\"Model 6 (Text-Based Psychological Analysis): {text_based}\\n\")\n",
        "\n",
        "# === Run Model 7 (Final Summary) ===\n",
        "final_summary = run_model_7_summary(\n",
        "    vital_signs, sleep, bone, speech_emotion, facial_expression, text_based\n",
        ")\n",
        "\n",
        "print(\"🧾 AI Health Summary:\\n\")\n",
        "print(final_summary)"
      ],
      "metadata": {
        "colab": {
          "base_uri": "https://localhost:8080/"
        },
        "id": "7S8F-OgvmEZ3",
        "outputId": "d6769f12-ccd9-4f54-b2b1-b9649e32044c"
      },
      "execution_count": null,
      "outputs": [
        {
          "output_type": "stream",
          "name": "stdout",
          "text": [
            "The Inputs from The 6 Models Are:\n",
            "\n",
            "Model 1 (Vital Signs Monitoring): High Risk\n",
            "Model 2 (Sleep Pattern and Fatigue): Sleep Apnea\n",
            "Model 3 (Bone Density and Microgravity): Low Risk\n",
            "Model 4 (Speech Emotion Recognition): happy\n",
            "Model 5 (Facial Expression Recognition): surprise\n",
            "Model 6 (Text-Based Psychological Analysis): Depression\n",
            "\n",
            "🧾 AI Health Summary:\n",
            "\n",
            "The analysis indicates critical cardiovascular indicators and elevated vital signs.\n",
            "\n",
            "📋 Recommendations:\n",
            "📌 Schedule a medical evaluation within 24 hours.\n",
            "📌 Begin remote monitoring for early intervention.\n",
            "📌 Follow up with a sleep specialist for further tests.\n"
          ]
        }
      ]
    }
  ]
}