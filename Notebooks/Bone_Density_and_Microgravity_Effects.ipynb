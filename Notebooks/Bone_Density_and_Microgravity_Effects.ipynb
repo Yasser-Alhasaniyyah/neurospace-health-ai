{
  "nbformat": 4,
  "nbformat_minor": 0,
  "metadata": {
    "colab": {
      "provenance": [],
      "gpuType": "A100"
    },
    "kernelspec": {
      "name": "python3",
      "display_name": "Python 3"
    },
    "language_info": {
      "name": "python"
    },
    "accelerator": "GPU"
  },
  "cells": [
    {
      "cell_type": "code",
      "source": [
        "# =====================================================\n",
        "# 📦 1. Imports\n",
        "# =====================================================\n",
        "import pandas as pd\n",
        "import numpy as np\n",
        "import joblib\n",
        "import json\n",
        "from sklearn.metrics import accuracy_score, classification_report, roc_auc_score, roc_curve\n",
        "from tensorflow.keras.models import load_model\n",
        "from xgboost import XGBClassifier\n"
      ],
      "metadata": {
        "id": "Bmc4VijAJYdo"
      },
      "execution_count": null,
      "outputs": []
    },
    {
      "cell_type": "code",
      "execution_count": null,
      "metadata": {
        "colab": {
          "base_uri": "https://localhost:8080/"
        },
        "id": "JcucWjaZJWGi",
        "outputId": "50e2a5eb-a12b-4ca2-e132-808de0fc9c08"
      },
      "outputs": [
        {
          "output_type": "stream",
          "name": "stderr",
          "text": [
            "WARNING:absl:Compiled the loaded model, but the compiled metrics have yet to be built. `model.compile_metrics` will be empty until you train or evaluate the model.\n"
          ]
        }
      ],
      "source": [
        "\n",
        "# =====================================================\n",
        "# 📥 2. Load Models, Scalers, and Metadata\n",
        "# =====================================================\n",
        "# Paths\n",
        "base_path = \"/content/drive/MyDrive/Hackathon Models/3. Bone Density and Microgravity Effects/\"\n",
        "\n",
        "# Load models\n",
        "xgb_model = joblib.load(base_path + \"xgb_model.pkl\")\n",
        "nn_model = load_model(base_path + \"osteoporosis_risk_nn_model_shap.h5\")\n",
        "\n",
        "# Load scalers\n",
        "scaler_xgb = joblib.load(base_path + \"scaler_xgb.pkl\")\n",
        "scaler_nn = joblib.load(base_path + \"scaler_shap.pkl\")\n",
        "\n",
        "# Load metadata\n",
        "with open(base_path + \"model_metadata.json\") as f:\n",
        "    meta_xgb = json.load(f)\n",
        "with open(base_path + \"model_metadata_shap.json\") as f:\n",
        "    meta_nn = json.load(f)\n",
        "\n",
        "# Load feature sets\n",
        "features_xgb = meta_xgb['features']\n",
        "features_nn = meta_nn['features']\n",
        "threshold_xgb = meta_xgb['optimal_threshold']\n",
        "threshold_nn = meta_nn['optimal_threshold']\n"
      ]
    },
    {
      "cell_type": "code",
      "source": [
        "# =====================================================\n",
        "# 🧪 3. Load and Prepare Test Data\n",
        "# =====================================================\n",
        "df = pd.read_csv(\"/content/bone density and microgravity.csv\")\n",
        "df.dropna(subset=['htotbmd', 'bmd25', 'rtgroup'], inplace=True)\n",
        "\n",
        "# Recalculate engineered features\n",
        "df['age_weight_ratio'] = df['ra_age'] / df['p3_weigh']\n",
        "df['interaction'] = df['ra_age'] * df['trialyrs']\n",
        "\n",
        "# Targets\n",
        "y_true = df['bmd25'].values\n",
        "\n",
        "# Separate feature matrices\n",
        "X_xgb = df[features_xgb]\n",
        "X_nn = df[features_nn]\n",
        "\n",
        "# Apply corresponding scalers\n",
        "X_xgb_scaled = scaler_xgb.transform(X_xgb)\n",
        "X_nn_scaled = scaler_nn.transform(X_nn)\n"
      ],
      "metadata": {
        "id": "Bb7gm92CJcrJ"
      },
      "execution_count": null,
      "outputs": []
    },
    {
      "cell_type": "code",
      "source": [
        "# =====================================================\n",
        "# 🤝 4. Ensemble Prediction (Soft Voting)\n",
        "# =====================================================\n",
        "# Predict probabilities\n",
        "proba_xgb = xgb_model.predict_proba(X_xgb_scaled)[:, 1]\n",
        "proba_nn = nn_model.predict(X_nn_scaled).flatten()\n",
        "\n",
        "# Soft vote\n",
        "ensemble_proba = (proba_xgb + proba_nn) / 2\n",
        "\n",
        "# Average threshold\n",
        "avg_thresh = (threshold_xgb + threshold_nn) / 2\n",
        "print(\"📌 Ensemble Threshold:\", round(avg_thresh, 4))\n",
        "\n",
        "# Final prediction\n",
        "ensemble_pred = (ensemble_proba >= avg_thresh).astype(int)\n"
      ],
      "metadata": {
        "colab": {
          "base_uri": "https://localhost:8080/"
        },
        "id": "YNATG6aYJdbi",
        "outputId": "c7f49063-2379-4b58-f6dc-804666a632a9"
      },
      "execution_count": null,
      "outputs": [
        {
          "output_type": "stream",
          "name": "stdout",
          "text": [
            "\u001b[1m199/199\u001b[0m \u001b[32m━━━━━━━━━━━━━━━━━━━━\u001b[0m\u001b[37m\u001b[0m \u001b[1m1s\u001b[0m 3ms/step\n",
            "📌 Ensemble Threshold: 0.3417\n"
          ]
        }
      ]
    },
    {
      "cell_type": "code",
      "source": [
        "# =====================================================\n",
        "# 📈 5. Evaluation\n",
        "# =====================================================\n",
        "roc_auc = roc_auc_score(y_true, ensemble_proba)\n",
        "acc = accuracy_score(y_true, ensemble_pred)\n",
        "report = classification_report(y_true, ensemble_pred)\n",
        "\n",
        "print(\"🎯 Ensemble ROC AUC:\", round(roc_auc, 4))\n",
        "print(\"✅ Ensemble Accuracy:\", round(acc * 100, 2), \"%\")\n",
        "print(\"🧪 Ensemble Classification Report:\\n\", report)\n",
        "\n",
        "# Plot ROC Curve\n",
        "fpr, tpr, _ = roc_curve(y_true, ensemble_proba)\n",
        "import matplotlib.pyplot as plt\n",
        "\n",
        "plt.figure(figsize=(6, 5))\n",
        "plt.plot(fpr, tpr, label=f\"AUC = {roc_auc:.2f}\", color='purple')\n",
        "plt.plot([0, 1], [0, 1], linestyle='--', color='gray')\n",
        "plt.xlabel(\"False Positive Rate\")\n",
        "plt.ylabel(\"True Positive Rate\")\n",
        "plt.title(\"ROC Curve – Soft Voting Ensemble (XGB + NN)\")\n",
        "plt.legend()\n",
        "plt.grid(True)\n",
        "plt.show()\n"
      ],
      "metadata": {
        "colab": {
          "base_uri": "https://localhost:8080/",
          "height": 695
        },
        "id": "2qrk1C5uJeQm",
        "outputId": "66787fc9-17bb-47d7-e0da-56e65bff6cc4"
      },
      "execution_count": null,
      "outputs": [
        {
          "output_type": "stream",
          "name": "stdout",
          "text": [
            "🎯 Ensemble ROC AUC: 0.8849\n",
            "✅ Ensemble Accuracy: 75.15 %\n",
            "🧪 Ensemble Classification Report:\n",
            "               precision    recall  f1-score   support\n",
            "\n",
            "         0.0       0.94      0.68      0.79      4312\n",
            "         1.0       0.57      0.91      0.70      2054\n",
            "\n",
            "    accuracy                           0.75      6366\n",
            "   macro avg       0.76      0.79      0.74      6366\n",
            "weighted avg       0.82      0.75      0.76      6366\n",
            "\n"
          ]
        },
        {
          "output_type": "display_data",
          "data": {
            "text/plain": [
              "<Figure size 600x500 with 1 Axes>"
            ],
            "image/png": "[encoded data removed]"
          },
          "metadata": {}
        }
      ]
    },
    {
      "cell_type": "code",
      "source": [
        "# =====================================================\n",
        "# 💾 6. Wrap as a Single Model and Save\n",
        "# =====================================================\n",
        "class BoneDensityEnsembleModel:\n",
        "    def __init__(self, xgb_model, nn_model, scaler_xgb, scaler_nn,\n",
        "                 features_xgb, features_nn, threshold):\n",
        "        self.xgb_model = xgb_model\n",
        "        self.nn_model = nn_model\n",
        "        self.scaler_xgb = scaler_xgb\n",
        "        self.scaler_nn = scaler_nn\n",
        "        self.features_xgb = features_xgb\n",
        "        self.features_nn = features_nn\n",
        "        self.threshold = threshold\n",
        "\n",
        "    def engineer_features(self, df):\n",
        "        df = df.copy()\n",
        "        df['age_weight_ratio'] = df['ra_age'] / df['p3_weigh']\n",
        "        df['interaction'] = df['ra_age'] * df['trialyrs']\n",
        "        return df\n",
        "\n",
        "    def predict(self, df):\n",
        "        df = self.engineer_features(df)\n",
        "        X_xgb = df[self.features_xgb]\n",
        "        X_nn = df[self.features_nn]\n",
        "        X_xgb_scaled = self.scaler_xgb.transform(X_xgb)\n",
        "        X_nn_scaled = self.scaler_nn.transform(X_nn)\n",
        "\n",
        "        proba_xgb = self.xgb_model.predict_proba(X_xgb_scaled)[:, 1]\n",
        "        proba_nn = self.nn_model.predict(X_nn_scaled).flatten()\n",
        "\n",
        "        ensemble_proba = (proba_xgb + proba_nn) / 2\n",
        "        final_pred = (ensemble_proba >= self.threshold).astype(int)\n",
        "        return final_pred, ensemble_proba\n"
      ],
      "metadata": {
        "id": "5zLiKLHXTsfo"
      },
      "execution_count": null,
      "outputs": []
    },
    {
      "cell_type": "code",
      "source": [
        "# Create the ensemble model object\n",
        "ensemble_model = BoneDensityEnsembleModel(\n",
        "    xgb_model=xgb_model,\n",
        "    nn_model=nn_model,\n",
        "    scaler_xgb=scaler_xgb,\n",
        "    scaler_nn=scaler_nn,\n",
        "    features_xgb=features_xgb,\n",
        "    features_nn=features_nn,\n",
        "    threshold=avg_thresh\n",
        ")\n",
        "\n",
        "# Save it\n",
        "joblib.dump(ensemble_model, base_path + \"bone_density_ensemble_model.pkl\")\n",
        "print(\"✅ Ensemble model saved as ONE unified model 🎉\")"
      ],
      "metadata": {
        "colab": {
          "base_uri": "https://localhost:8080/"
        },
        "id": "yrDTu3M1Tt89",
        "outputId": "7ed19743-8df1-4e2f-d0da-55238d057c0f"
      },
      "execution_count": null,
      "outputs": [
        {
          "output_type": "stream",
          "name": "stdout",
          "text": [
            "✅ Ensemble model saved as ONE unified model 🎉\n"
          ]
        }
      ]
    },
    {
      "cell_type": "code",
      "source": [
        "import pandas as pd\n",
        "\n",
        "sample_data = pd.DataFrame([{\n",
        "    \"ra_age\": 45,              # Age of astronaut\n",
        "    \"p3_weigh\": 70,            # Weight in kg\n",
        "    \"trialyrs\": 1.2,           # Simulated years in microgravity\n",
        "    \"trt01\": 1,                # Treatment group (e.g. 1 = treated)\n",
        "    \"rtgroup\": \"Drug A\"        # Encoded treatment type (must match original label encoder)\n",
        "}])"
      ],
      "metadata": {
        "id": "rDgfBCO3V__h"
      },
      "execution_count": null,
      "outputs": []
    },
    {
      "cell_type": "code",
      "source": [
        "sample_data[\"age_weight_ratio\"] = sample_data[\"ra_age\"] / sample_data[\"p3_weigh\"]\n",
        "sample_data[\"interaction\"] = sample_data[\"ra_age\"] * sample_data[\"trialyrs\"]\n"
      ],
      "metadata": {
        "id": "rYk0mg8QWH14"
      },
      "execution_count": null,
      "outputs": []
    },
    {
      "cell_type": "code",
      "source": [
        "# Load your final saved model\n",
        "import joblib\n",
        "model = joblib.load(\"/content/drive/MyDrive/Hackathon Models/3. Bone Density and Microgravity Effects/bone_density_ensemble_model.pkl\")\n",
        "\n",
        "# Run prediction\n",
        "pred, proba = model.predict(sample_data)\n",
        "\n",
        "print(\"🧠 Predicted Risk Class:\", pred[0])  # 0 = Low Risk, 1 = High Risk\n",
        "print(\"📊 Risk Probability:\", round(proba[0], 4))\n"
      ],
      "metadata": {
        "colab": {
          "base_uri": "https://localhost:8080/"
        },
        "id": "bCpe3GQ6WKiB",
        "outputId": "f921bcc7-dd43-4bf4-febd-8d7c6a1d96e4"
      },
      "execution_count": null,
      "outputs": [
        {
          "output_type": "stream",
          "name": "stderr",
          "text": [
            "/usr/local/lib/python3.11/dist-packages/keras/src/saving/saving_lib.py:757: UserWarning: Skipping variable loading for optimizer 'adam', because it has 26 variables whereas the saved optimizer has 2 variables. \n",
            "  saveable.load_own_variables(weights_store.get(inner_path))\n"
          ]
        },
        {
          "output_type": "stream",
          "name": "stdout",
          "text": [
            "\u001b[1m1/1\u001b[0m \u001b[32m━━━━━━━━━━━━━━━━━━━━\u001b[0m\u001b[37m\u001b[0m \u001b[1m1s\u001b[0m 531ms/step\n",
            "🧠 Predicted Risk Class: 0\n",
            "📊 Risk Probability: 0.2883\n"
          ]
        }
      ]
    }
  ]
}